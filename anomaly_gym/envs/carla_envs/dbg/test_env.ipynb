{
 "cells": [
  {
   "cell_type": "code",
   "execution_count": 1,
   "metadata": {},
   "outputs": [],
   "source": [
    "import carla\n",
    "import math\n",
    "import random\n",
    "import time\n",
    "import numpy as np\n",
    "import cv2\n",
    "import matplotlib.pyplot as plt\n",
    "\n",
    "import queue\n",
    "\n",
    "from simple_carla_env import CarlaEnv"
   ]
  },
  {
   "cell_type": "code",
   "execution_count": 37,
   "metadata": {},
   "outputs": [],
   "source": [
    "def loc2array(loc: carla.Location) -> np.ndarray:\n",
    "    return np.array([loc.x, loc.y, loc.z])\n"
   ]
  },
  {
   "cell_type": "code",
   "execution_count": 7,
   "metadata": {},
   "outputs": [
    {
     "data": {
      "text/plain": [
       "array([0.        , 0.00999967, 0.01999733, 0.029991  , 0.03997868,\n",
       "       0.04995837, 0.0599281 , 0.06988589, 0.07982977, 0.08975778,\n",
       "       0.09966799, 0.10955847, 0.1194273 , 0.12927258, 0.13909245,\n",
       "       0.14888503, 0.1586485 , 0.16838105, 0.17808087, 0.18774621,\n",
       "       0.19737532, 0.2069665 , 0.21651806, 0.22602835, 0.23549575,\n",
       "       0.24491866, 0.25429553, 0.26362484, 0.27290508, 0.28213481,\n",
       "       0.29131261, 0.3004371 , 0.30950692, 0.31852078, 0.32747739,\n",
       "       0.33637554, 0.34521403, 0.35399171, 0.36270747, 0.37136023,\n",
       "       0.37994896, 0.38847268, 0.39693043, 0.40532131, 0.41364444,\n",
       "       0.42189901, 0.43008421, 0.43819931, 0.44624361, 0.45421643,\n",
       "       0.46211716, 0.4699452 , 0.47770001, 0.48538109, 0.49298797,\n",
       "       0.50052021, 0.50797743, 0.51535928, 0.52266543, 0.52989561,\n",
       "       0.53704957, 0.5441271 , 0.55112803, 0.55805222, 0.56489955,\n",
       "       0.57166997, 0.57836341, 0.58497988, 0.5915194 , 0.597982  ,\n",
       "       0.60436778, 0.61067683, 0.6169093 , 0.62306535, 0.62914516,\n",
       "       0.63514895, 0.64107696, 0.64692945, 0.65270671, 0.65840904,\n",
       "       0.66403677, 0.66959026, 0.67506987, 0.68047601, 0.68580906,\n",
       "       0.69106947, 0.69625767, 0.70137413, 0.70641932, 0.71139373,\n",
       "       0.71629787, 0.72113225, 0.72589741, 0.7305939 , 0.73522225,\n",
       "       0.73978305, 0.74427687, 0.74870429, 0.7530659 , 0.75736232])"
      ]
     },
     "execution_count": 7,
     "metadata": {},
     "output_type": "execute_result"
    }
   ],
   "source": [
    "np.tanh(np.arange(0, 1, 0.01))"
   ]
  },
  {
   "cell_type": "code",
   "execution_count": 38,
   "metadata": {},
   "outputs": [
    {
     "ename": "KeyboardInterrupt",
     "evalue": "",
     "output_type": "error",
     "traceback": [
      "\u001b[0;31m---------------------------------------------------------------------------\u001b[0m",
      "\u001b[0;31mKeyboardInterrupt\u001b[0m                         Traceback (most recent call last)",
      "Cell \u001b[0;32mIn[38], line 1\u001b[0m\n\u001b[0;32m----> 1\u001b[0m env \u001b[38;5;241m=\u001b[39m \u001b[43mCarlaEnv\u001b[49m\u001b[43m(\u001b[49m\u001b[43mn_exo_vehicles\u001b[49m\u001b[38;5;241;43m=\u001b[39;49m\u001b[38;5;241;43m30\u001b[39;49m\u001b[43m)\u001b[49m\n\u001b[1;32m      2\u001b[0m obs, info \u001b[38;5;241m=\u001b[39m env\u001b[38;5;241m.\u001b[39mreset()\n",
      "File \u001b[0;32m~/Code/anomaly-gym/anomaly_gym/envs/carla_envs/simple_carla_env.py:73\u001b[0m, in \u001b[0;36mCarlaEnv.__init__\u001b[0;34m(self, n_exo_vehicles, server_port, fps, map_name)\u001b[0m\n\u001b[1;32m     71\u001b[0m \u001b[38;5;28mself\u001b[39m\u001b[38;5;241m.\u001b[39mmap \u001b[38;5;241m=\u001b[39m \u001b[38;5;28mself\u001b[39m\u001b[38;5;241m.\u001b[39mworld\u001b[38;5;241m.\u001b[39mget_map()\n\u001b[1;32m     72\u001b[0m \u001b[38;5;28mself\u001b[39m\u001b[38;5;241m.\u001b[39mworld\u001b[38;5;241m.\u001b[39mapply_settings(carla\u001b[38;5;241m.\u001b[39mWorldSettings(synchronous_mode\u001b[38;5;241m=\u001b[39m\u001b[38;5;28;01mTrue\u001b[39;00m, fixed_delta_seconds\u001b[38;5;241m=\u001b[39m\u001b[38;5;28mself\u001b[39m\u001b[38;5;241m.\u001b[39mdelta_seconds))\n\u001b[0;32m---> 73\u001b[0m \u001b[38;5;28;43mself\u001b[39;49m\u001b[38;5;241;43m.\u001b[39;49m\u001b[43mclient\u001b[49m\u001b[38;5;241;43m.\u001b[39;49m\u001b[43mreload_world\u001b[49m\u001b[43m(\u001b[49m\u001b[38;5;28;43;01mFalse\u001b[39;49;00m\u001b[43m)\u001b[49m\n\u001b[1;32m     75\u001b[0m \u001b[38;5;66;03m# init vehicles\u001b[39;00m\n\u001b[1;32m     76\u001b[0m \u001b[38;5;28mself\u001b[39m\u001b[38;5;241m.\u001b[39mbp_lib \u001b[38;5;241m=\u001b[39m \u001b[38;5;28mself\u001b[39m\u001b[38;5;241m.\u001b[39mworld\u001b[38;5;241m.\u001b[39mget_blueprint_library()\n",
      "\u001b[0;31mKeyboardInterrupt\u001b[0m: "
     ]
    }
   ],
   "source": [
    "env = CarlaEnv(n_exo_vehicles=30)\n",
    "obs, info = env.reset()"
   ]
  },
  {
   "cell_type": "code",
   "execution_count": null,
   "metadata": {},
   "outputs": [
    {
     "name": "stdout",
     "output_type": "stream",
     "text": [
      "(888,)\n",
      "0.0\n",
      "(888,)\n",
      "0.0\n",
      "(888,)\n",
      "0.0\n",
      "(888,)\n",
      "0.0\n",
      "(888,)\n",
      "0.0\n",
      "(888,)\n",
      "0.0\n",
      "(888,)\n",
      "0.0\n",
      "(888,)\n",
      "0.0\n",
      "(888,)\n",
      "0.0\n",
      "(888,)\n",
      "0.0\n",
      "(888,)\n",
      "0.0\n",
      "(888,)\n",
      "0.0\n",
      "(888,)\n",
      "0.0\n",
      "(888,)\n",
      "2.86102294921875e-06\n",
      "(864,)\n",
      "2.86102294921875e-06\n",
      "(864,)\n",
      "2.86102294921875e-06\n",
      "(864,)\n",
      "-1.239776611328125e-05\n",
      "(864,)\n",
      "-0.00012683868408203125\n",
      "(864,)\n",
      "-0.000102996826171875\n",
      "(864,)\n",
      "-0.000148773193359375\n"
     ]
    }
   ],
   "source": [
    "for i in range(20):\n",
    "    obs, reward, term, trunc, info = env.step([1.0, 0.0])\n",
    "    env._set_spectator()\n",
    "\n",
    "    # print(info[\"heading_angle\"], info[\"heading_angle2\"])\n",
    "    print(info[\"dist_to_lane_center\"])\n",
    "\n",
    "    # print([(v.get_velocity().x, v.get_velocity().y) for v in env.vehicle_list])\n",
    "\n",
    "    # # print(obs[\"observation\"].shape)\n",
    "    # plt.imshow(obs[\"observation\"])\n",
    "    # plt.show()\n"
   ]
  },
  {
   "cell_type": "code",
   "execution_count": null,
   "metadata": {},
   "outputs": [],
   "source": [
    "# plt.imshow(obs[\"observation\"])"
   ]
  },
  {
   "cell_type": "code",
   "execution_count": null,
   "metadata": {},
   "outputs": [
    {
     "data": {
      "text/plain": [
       "{'ego_location': array([8.74565315e+00, 6.55038681e+01, 2.19260585e-02]),\n",
       " 'ego_waypoint': array([ 8.74580193, 65.5038681 ,  0.        ]),\n",
       " 'ego_speed': 2.781209790330904,\n",
       " 'ego_accel': 5.114580984035992,\n",
       " 'dist_to_lane_center': array([-0.00014877,  0.        ,  0.02192606]),\n",
       " 'lane_id': -2,\n",
       " 'road_id': 47}"
      ]
     },
     "execution_count": 7,
     "metadata": {},
     "output_type": "execute_result"
    }
   ],
   "source": [
    "ego_location = env.ego_vehicle.get_location()\n",
    "ego_speed = np.linalg.norm(loc2array(env.ego_vehicle.get_velocity())[:2])  # in m/s\n",
    "ego_accel = np.linalg.norm(loc2array(env.ego_vehicle.get_acceleration())[:2])\n",
    "ego_waypoint = env.map.get_waypoint(ego_location, project_to_road=True)\n",
    "ego_waypoint_loc = ego_waypoint.transform.location\n",
    "dist_to_lane_center = loc2array(ego_location) - loc2array(ego_waypoint_loc)\n",
    "\n",
    "reward = 0\n",
    "term = False\n",
    "trunc = False\n",
    "\n",
    "info = {\n",
    "    \"ego_location\": loc2array(ego_location),\n",
    "    \"ego_waypoint\": loc2array(ego_waypoint_loc),\n",
    "    \"ego_speed\": ego_speed,\n",
    "    \"ego_accel\": ego_accel,\n",
    "    \"dist_to_lane_center\": dist_to_lane_center,\n",
    "    \"lane_id\": ego_waypoint.lane_id,\n",
    "    \"road_id\": ego_waypoint.road_id,\n",
    "    # \"collision\": sensor_data[\"collision\"],\n",
    "    # \"lane_invasion\": sensor_data[\"lane_invasion\"],\n",
    "}\n",
    "\n",
    "info"
   ]
  },
  {
   "cell_type": "code",
   "execution_count": null,
   "metadata": {},
   "outputs": [
    {
     "data": {
      "text/plain": [
       "0.004657910671085119"
      ]
     },
     "execution_count": 8,
     "metadata": {},
     "output_type": "execute_result"
    }
   ],
   "source": [
    "v_vec = env.ego_vehicle.get_transform().get_forward_vector()\n",
    "w_vec = ego_waypoint.transform.get_forward_vector()\n",
    "v_vec.get_vector_angle(w_vec)"
   ]
  },
  {
   "cell_type": "code",
   "execution_count": null,
   "metadata": {},
   "outputs": [],
   "source": [
    "def get_rel_angle(target_transform, reference_transform):\n",
    "    _vec = reference_transform.get_forward_vector()\n",
    "    ref_vec = np.array([_vec.x, _vec.y])\n",
    "    target_vec = np.array([\n",
    "        target_transform.location.x - reference_transform.location.x,\n",
    "        target_transform.location.y - reference_transform.location.y\n",
    "    ])\n",
    "    norm_target = np.linalg.norm(target_vec)\n",
    "    angle = math.degrees(np.arccos(np.clip(np.dot(ref_vec, target_vec) / norm_target, -1., 1.)))\n",
    "\n",
    "    return angle"
   ]
  },
  {
   "cell_type": "code",
   "execution_count": null,
   "metadata": {},
   "outputs": [
    {
     "name": "stdout",
     "output_type": "stream",
     "text": [
      "29\n",
      "ego location: Location(x=8.745653, y=65.503868, z=0.021926)\n",
      "ego vec: Vector3D(x=-0.004787, y=-0.999978, z=-0.004663)\n",
      "vehicle.dodge.charger_police_2020\n",
      "[5.05305243e+00 2.73165627e+01 1.10609108e-06]\n",
      "dist: 38.365428166493075\n",
      "target location: Location(x=5.053052, y=27.316563, z=0.000001)\n",
      "target vec:  Vector3D(x=-0.005046, y=-0.999987, z=0.000000)\n",
      "ego-target vec:  Vector3D(x=0.000259, y=0.000010, z=-0.004663)\n",
      "vec angle:  0.004657910671085119\n",
      "vehicle.citroen.c3\n",
      "[15.02183151 27.14393997 10.99962234]\n",
      "dist: 40.39039881938191\n",
      "target location: Location(x=15.021832, y=27.143940, z=10.999622)\n",
      "target vec:  Vector3D(x=0.999992, y=0.004061, z=0.000000)\n",
      "ego-target vec:  Vector3D(x=-1.004779, y=-1.004038, z=-0.004663)\n",
      "vec angle:  1.5796438455581665\n",
      "0\n"
     ]
    }
   ],
   "source": [
    "vc = []\n",
    "\n",
    "distances = []\n",
    "\n",
    "print(len(env.vehicle_list))\n",
    "\n",
    "\n",
    "ego_transform = env.ego_vehicle.get_transform()\n",
    "ego_location = ego_transform.location\n",
    "ego_vec = ego_transform.get_forward_vector()\n",
    "ego_wpt = env.map.get_waypoint(ego_location)\n",
    "\n",
    "print(\"ego location:\", ego_location)\n",
    "print(\"ego vec:\", ego_vec)\n",
    "\n",
    "for v in env.vehicle_list:\n",
    "    target_transform = v.get_transform()\n",
    "    if target_transform == ego_transform:\n",
    "        continue\n",
    "    \n",
    "    else:\n",
    "        target_wpt = env.map.get_waypoint(target_transform.location, lane_type=carla.LaneType.Any)\n",
    "       \n",
    "        # if target_wpt.lane_id == ego_wpt.lane_id:\n",
    "        if True:\n",
    "            target_location = target_transform.location\n",
    "            target_vec = target_transform.get_forward_vector()\n",
    "            dist = np.linalg.norm(loc2array(target_location)-loc2array(ego_location))\n",
    "            rel_angle = get_rel_angle(ego_transform, target_transform)  \n",
    "            if dist < 50 and rel_angle > 90:\n",
    "                print(v.type_id)\n",
    "                print(loc2array(v.get_transform().location))\n",
    "                print(\"dist:\", dist)\n",
    "                print(\"target location:\", target_location)\n",
    "                print(\"target vec: \",  target_vec)\n",
    "                print(\"ego-target vec: \", ego_vec - target_vec)\n",
    "                print(\"vec angle: \", ego_vec.get_vector_angle(target_vec))\n",
    "\n",
    "\n",
    "            # print(get_rel_angle(target_transform, ego_transform))\n",
    "\n",
    "print(len(vc))"
   ]
  },
  {
   "cell_type": "code",
   "execution_count": null,
   "metadata": {},
   "outputs": [
    {
     "data": {
      "text/plain": [
       "13585"
      ]
     },
     "execution_count": 13,
     "metadata": {},
     "output_type": "execute_result"
    }
   ],
   "source": [
    "def add_exo():\n",
    "    blueprint = random.choice(env.exo_bps)\n",
    "    blueprint.set_attribute(\"role_name\", \"hero\")  # or ego\n",
    "    transform = env.ego_vehicle.get_transform()\n",
    "    transform.location.y -= 5\n",
    "    transform.location.x -= 5\n",
    "    # ego_location = env.ego_vehicle.get_location()\n",
    "    # transform = env.map.get_waypoint(ego_location, project_to_road=True).get_right_lane().transform\n",
    "    \n",
    "    vehicle = env.world.spawn_actor(blueprint=blueprint, transform=transform)\n",
    "    return vehicle\n",
    "\n",
    "ev = add_exo()\n",
    "env.world.tick()"
   ]
  },
  {
   "cell_type": "code",
   "execution_count": null,
   "metadata": {},
   "outputs": [],
   "source": []
  },
  {
   "cell_type": "code",
   "execution_count": null,
   "metadata": {},
   "outputs": [
    {
     "data": {
      "text/plain": [
       "13586"
      ]
     },
     "execution_count": 14,
     "metadata": {},
     "output_type": "execute_result"
    }
   ],
   "source": [
    "env._set_spectator()\n",
    "env.world.tick()"
   ]
  },
  {
   "cell_type": "code",
   "execution_count": null,
   "metadata": {},
   "outputs": [
    {
     "data": {
      "text/plain": [
       "13587"
      ]
     },
     "execution_count": 15,
     "metadata": {},
     "output_type": "execute_result"
    }
   ],
   "source": [
    "transform = carla.Transform(\n",
    "    env.ego_vehicle.get_transform().transform(carla.Location(x=0, z=2.5)),\n",
    "    env.ego_vehicle.get_transform().rotation,\n",
    ")\n",
    "env._set_spectator(transform)\n",
    "env.world.tick()"
   ]
  },
  {
   "cell_type": "code",
   "execution_count": null,
   "metadata": {},
   "outputs": [
    {
     "data": {
      "text/plain": [
       "13588"
      ]
     },
     "execution_count": 16,
     "metadata": {},
     "output_type": "execute_result"
    }
   ],
   "source": [
    "transform = carla.Transform(\n",
    "    ev.get_transform().transform(carla.Location(x=-20, z=2.5)),\n",
    "    ev.get_transform().rotation,\n",
    ")\n",
    "env._set_spectator(transform)\n",
    "env.world.tick()"
   ]
  },
  {
   "cell_type": "code",
   "execution_count": null,
   "metadata": {},
   "outputs": [
    {
     "data": {
      "text/plain": [
       "13589"
      ]
     },
     "execution_count": 17,
     "metadata": {},
     "output_type": "execute_result"
    }
   ],
   "source": [
    "env._set_spectator()\n",
    "env.world.tick()"
   ]
  },
  {
   "cell_type": "code",
   "execution_count": null,
   "metadata": {},
   "outputs": [
    {
     "data": {
      "text/plain": [
       "13590"
      ]
     },
     "execution_count": 18,
     "metadata": {},
     "output_type": "execute_result"
    }
   ],
   "source": [
    "env.world.tick()"
   ]
  },
  {
   "cell_type": "code",
   "execution_count": null,
   "metadata": {},
   "outputs": [
    {
     "data": {
      "text/plain": [
       "array([8.74565315e+00, 6.55038681e+01, 2.19260585e-02])"
      ]
     },
     "execution_count": 19,
     "metadata": {},
     "output_type": "execute_result"
    }
   ],
   "source": [
    "loc2array(target_transform.location)"
   ]
  },
  {
   "cell_type": "code",
   "execution_count": null,
   "metadata": {},
   "outputs": [
    {
     "name": "stdout",
     "output_type": "stream",
     "text": [
      "[3.74564075e+00 6.05018425e+01 5.16454456e-03]\n",
      "[ 8.74580193 65.5038681   0.        ]\n"
     ]
    }
   ],
   "source": [
    "\n",
    "print(loc2array(ev.get_transform().location))\n",
    "print(loc2array(ego_waypoint.transform.location))"
   ]
  },
  {
   "cell_type": "code",
   "execution_count": null,
   "metadata": {},
   "outputs": [
    {
     "data": {
      "text/plain": [
       "array([ 8.74580193, 65.5038681 ,  0.        ])"
      ]
     },
     "execution_count": 21,
     "metadata": {},
     "output_type": "execute_result"
    }
   ],
   "source": [
    "loc2array(ego_waypoint.transform.location)"
   ]
  },
  {
   "cell_type": "code",
   "execution_count": null,
   "metadata": {},
   "outputs": [],
   "source": [
    "w = ego_waypoint\n",
    "wps = []\n",
    "for i in range(1000):\n",
    "    w = w.next(0.1)[0]\n",
    "    wps.append(w)"
   ]
  },
  {
   "cell_type": "code",
   "execution_count": null,
   "metadata": {},
   "outputs": [],
   "source": [
    "ds = []\n",
    "for w in wps:\n",
    "    d = np.linalg.norm(loc2array(w.transform.location) - loc2array(ev.get_transform().location))\n",
    "    ds.append(d)\n",
    "   "
   ]
  },
  {
   "cell_type": "code",
   "execution_count": null,
   "metadata": {},
   "outputs": [
    {
     "data": {
      "text/plain": [
       "4.9"
      ]
     },
     "execution_count": 24,
     "metadata": {},
     "output_type": "execute_result"
    }
   ],
   "source": [
    "np.argmin(ds) * 0.1"
   ]
  },
  {
   "cell_type": "code",
   "execution_count": null,
   "metadata": {},
   "outputs": [
    {
     "data": {
      "text/plain": [
       "7.072616103935261"
      ]
     },
     "execution_count": 25,
     "metadata": {},
     "output_type": "execute_result"
    }
   ],
   "source": [
    "\n",
    "np.linalg.norm(loc2array(ev.get_transform().location) - loc2array(ego_waypoint.transform.location))"
   ]
  },
  {
   "cell_type": "code",
   "execution_count": null,
   "metadata": {},
   "outputs": [
    {
     "data": {
      "text/plain": [
       "'\\n\\nfilter vehicles that are\\n    - too far away\\n    - behind ego\\n\\nfor i, wp in ego_vehilce.next_waypoints\\n    \\n    for v in other vehicles\\n        if dist(wp, other) < extent + margin:\\n            return i \\n'"
      ]
     },
     "execution_count": 26,
     "metadata": {},
     "output_type": "execute_result"
    }
   ],
   "source": [
    "\"\"\"\n",
    "\n",
    "filter vehicles that are\n",
    "    - too far away\n",
    "    - behind ego\n",
    "\n",
    "for i, wp in ego_vehilce.next_waypoints\n",
    "    \n",
    "    for v in other vehicles\n",
    "        if dist(wp, other) < extent + margin:\n",
    "            return i \n",
    "\"\"\""
   ]
  },
  {
   "cell_type": "code",
   "execution_count": null,
   "metadata": {},
   "outputs": [],
   "source": [
    "all_wps = env.map.generate_waypoints(30.0)\n",
    "a_locs = np.array([(w.transform.location.x, w.transform.location.y) for w in all_wps])\n",
    "\n",
    "w = ego_waypoint\n",
    "ego_wps = []\n",
    "for i in range(100):\n",
    "    w = w.next(1)[0]\n",
    "    ego_wps.append(w)\n",
    "\n",
    "e_locs = np.array([(w.transform.location.x, w.transform.location.y) for w in ego_wps])"
   ]
  },
  {
   "cell_type": "code",
   "execution_count": null,
   "metadata": {},
   "outputs": [
    {
     "data": {
      "text/plain": [
       "<matplotlib.collections.PathCollection at 0x7f99fc4ddbd0>"
      ]
     },
     "execution_count": 28,
     "metadata": {},
     "output_type": "execute_result"
    },
    {
     "data": {
      "image/png": "[encoded data removed]",
      "text/plain": [
       "<Figure size 640x480 with 1 Axes>"
      ]
     },
     "metadata": {},
     "output_type": "display_data"
    }
   ],
   "source": [
    "\n",
    "plt.scatter(a_locs[:, 0], a_locs[:, 1])\n",
    "plt.scatter(e_locs[:, 0], e_locs[:, 1])"
   ]
  },
  {
   "cell_type": "code",
   "execution_count": null,
   "metadata": {},
   "outputs": [
    {
     "data": {
      "image/png": "[encoded data removed]",
      "text/plain": [
       "<Figure size 640x480 with 1 Axes>"
      ]
     },
     "metadata": {},
     "output_type": "display_data"
    }
   ],
   "source": [
    "def vis_map(env):\n",
    "    road_wps = env.map.generate_waypoints(10.0)\n",
    "    road_locs = np.array([loc2array(w.transform.location) for w in road_wps])\n",
    "\n",
    "    vehicle_locs = np.stack([loc2array(v.get_location()) for v in env.vehicle_list])\n",
    "    ego_loc = loc2array(env.ego_vehicle.get_location())\n",
    "        \n",
    "\n",
    "\n",
    "    plt.scatter(road_locs[:, 0], road_locs[:, 1])\n",
    "    plt.scatter(vehicle_locs[:, 0], vehicle_locs[:, 1])\n",
    "    plt.scatter(ego_loc[0], ego_loc[1], color=\"red\")\n",
    "\n",
    "vis_map(env)"
   ]
  },
  {
   "cell_type": "code",
   "execution_count": null,
   "metadata": {},
   "outputs": [
    {
     "data": {
      "text/plain": [
       "['__class__',\n",
       " '__delattr__',\n",
       " '__dict__',\n",
       " '__dir__',\n",
       " '__doc__',\n",
       " '__eq__',\n",
       " '__format__',\n",
       " '__ge__',\n",
       " '__getattribute__',\n",
       " '__gt__',\n",
       " '__hash__',\n",
       " '__init__',\n",
       " '__init_subclass__',\n",
       " '__le__',\n",
       " '__lt__',\n",
       " '__module__',\n",
       " '__ne__',\n",
       " '__new__',\n",
       " '__reduce__',\n",
       " '__reduce_ex__',\n",
       " '__repr__',\n",
       " '__setattr__',\n",
       " '__sizeof__',\n",
       " '__str__',\n",
       " '__subclasshook__',\n",
       " '__weakref__',\n",
       " 'get_junction',\n",
       " 'get_landmarks',\n",
       " 'get_landmarks_of_type',\n",
       " 'get_left_lane',\n",
       " 'get_right_lane',\n",
       " 'id',\n",
       " 'is_intersection',\n",
       " 'is_junction',\n",
       " 'junction_id',\n",
       " 'lane_change',\n",
       " 'lane_id',\n",
       " 'lane_type',\n",
       " 'lane_width',\n",
       " 'left_lane_marking',\n",
       " 'next',\n",
       " 'next_until_lane_end',\n",
       " 'previous',\n",
       " 'previous_until_lane_start',\n",
       " 'right_lane_marking',\n",
       " 'road_id',\n",
       " 's',\n",
       " 'section_id',\n",
       " 'transform']"
      ]
     },
     "execution_count": 30,
     "metadata": {},
     "output_type": "execute_result"
    }
   ],
   "source": [
    "dir(ego_waypoint)"
   ]
  },
  {
   "cell_type": "code",
   "execution_count": null,
   "metadata": {},
   "outputs": [
    {
     "data": {
      "text/plain": [
       "(5.245846748352051, 65.52153015136719)"
      ]
     },
     "execution_count": 31,
     "metadata": {},
     "output_type": "execute_result"
    }
   ],
   "source": [
    "ego_waypoint.get_left_lane().transform.location.x, ego_waypoint.get_left_lane().transform.location.y"
   ]
  },
  {
   "cell_type": "code",
   "execution_count": null,
   "metadata": {},
   "outputs": [
    {
     "data": {
      "text/plain": [
       "(12.245758056640625, 65.4862060546875)"
      ]
     },
     "execution_count": 32,
     "metadata": {},
     "output_type": "execute_result"
    }
   ],
   "source": [
    "ego_waypoint.get_right_lane().transform.location.x, ego_waypoint.get_right_lane().transform.location.y"
   ]
  },
  {
   "cell_type": "code",
   "execution_count": null,
   "metadata": {},
   "outputs": [
    {
     "data": {
      "image/png": "[encoded data removed]",
      "text/plain": [
       "<Figure size 640x480 with 1 Axes>"
      ]
     },
     "metadata": {},
     "output_type": "display_data"
    }
   ],
   "source": [
    "def vis_map(env):\n",
    "    road_wps = env.map.generate_waypoints(10.0)\n",
    "    road_locs = np.array([loc2array(w.transform.location) for w in road_wps])\n",
    "\n",
    "    vehicle_locs = np.stack([\n",
    "        (ego_waypoint.get_left_lane().transform.location.x, ego_waypoint.get_left_lane().transform.location.y),\n",
    "        (ego_waypoint.get_right_lane().transform.location.x, ego_waypoint.get_right_lane().transform.location.y)\n",
    "    ])\n",
    "    ego_loc = loc2array(env.ego_vehicle.get_location())\n",
    "        \n",
    "\n",
    "\n",
    "    plt.scatter(road_locs[:, 0], road_locs[:, 1])\n",
    "    plt.scatter(vehicle_locs[:, 0], vehicle_locs[:, 1], color=\"black\")\n",
    "    plt.scatter(ego_loc[0], ego_loc[1], color=\"red\")\n",
    "\n",
    "vis_map(env)"
   ]
  },
  {
   "cell_type": "code",
   "execution_count": null,
   "metadata": {},
   "outputs": [
    {
     "name": "stdout",
     "output_type": "stream",
     "text": [
      "-2\n",
      "0 [12.24575806 65.48620605  0.        ] -3\n",
      "1 [ 8.74580193 65.5038681   0.        ] -2\n",
      "2 [ 5.24584675 65.52153015  0.        ] -1\n",
      "3 [ 1.74589145 65.53918457  0.        ] 1\n",
      "4 [ 5.24584675 65.52153015  0.        ] -1\n",
      "5 [ 1.74589145 65.53918457  0.        ] 1\n",
      "6 [ 5.24584675 65.52153015  0.        ] -1\n",
      "7 [ 1.74589145 65.53918457  0.        ] 1\n",
      "8 [ 5.24584675 65.52153015  0.        ] -1\n",
      "9 [ 1.74589145 65.53918457  0.        ] 1\n"
     ]
    }
   ],
   "source": [
    "print(ego_waypoint.lane_id)\n",
    "\n",
    "w = ego_waypoint.get_right_lane()\n",
    "\n",
    "for i in range(10):\n",
    "    print(i, loc2array(w.transform.location), w.lane_id)\n",
    "    w = w.get_left_lane()\n"
   ]
  },
  {
   "cell_type": "code",
   "execution_count": null,
   "metadata": {},
   "outputs": [
    {
     "ename": "SyntaxError",
     "evalue": "expected ':' (1512719546.py, line 1)",
     "output_type": "error",
     "traceback": [
      "\u001b[0;36m  Cell \u001b[0;32mIn[35], line 1\u001b[0;36m\u001b[0m\n\u001b[0;31m    if eg\u001b[0m\n\u001b[0m         ^\u001b[0m\n\u001b[0;31mSyntaxError\u001b[0m\u001b[0;31m:\u001b[0m expected ':'\n"
     ]
    }
   ],
   "source": [
    "if eg\n",
    "\n"
   ]
  },
  {
   "cell_type": "code",
   "execution_count": null,
   "metadata": {},
   "outputs": [],
   "source": []
  },
  {
   "cell_type": "code",
   "execution_count": null,
   "metadata": {},
   "outputs": [],
   "source": []
  }
 ],
 "metadata": {
  "kernelspec": {
   "display_name": "anomaly-gym",
   "language": "python",
   "name": "python3"
  },
  "language_info": {
   "codemirror_mode": {
    "name": "ipython",
    "version": 3
   },
   "file_extension": ".py",
   "mimetype": "text/x-python",
   "name": "python",
   "nbconvert_exporter": "python",
   "pygments_lexer": "ipython3",
   "version": "3.10.13"
  }
 },
 "nbformat": 4,
 "nbformat_minor": 2
}
